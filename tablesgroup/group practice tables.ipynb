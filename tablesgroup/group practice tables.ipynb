{
 "cells": [
  {
   "cell_type": "code",
   "execution_count": 10,
   "metadata": {},
   "outputs": [],
   "source": [
    "from config import gkey\n",
    "import gmaps\n",
    "import requests\n",
    "import time\n",
    "import matplotlib.pyplot as plt\n",
    "import pandas as pd\n",
    "import numpy as np"
   ]
  },
  {
   "cell_type": "code",
   "execution_count": 11,
   "metadata": {},
   "outputs": [],
   "source": [
    "hospitals_load = \"../tablesgroup/Hospitals.csv\"\n",
    "hospital_data = pd.read_csv(hospitals_load)\n",
    "\n",
    "quality_load = \"../tablesgroup/Quality.csv\"\n",
    "quality_data = pd.read_csv(quality_load)"
   ]
  },
  {
   "cell_type": "code",
   "execution_count": 12,
   "metadata": {},
   "outputs": [],
   "source": [
    "hospital_df = hospital_data\n",
    "quality_df = quality_data"
   ]
  },
  {
   "cell_type": "code",
   "execution_count": 21,
   "metadata": {},
   "outputs": [],
   "source": [
    "hospital_state = hospital_df[\"STATE\"]\n",
    "hospital_name = hospital_df[\"NAME\"]\n",
    "hospital_latitude = hospital_df[\"LATITUDE\"]\n",
    "hospital_longitude = hospital_df[\"LONGITUDE\"]\n",
    "hospital_city = hospital_df[\"CITY\"]\n",
    "hospital_county = hospital_df[\"COUNTY\"]\n",
    "hospital_type = hospital_df[\"TYPE\"]\n",
    "hospital_trauma = hospital_df[\"TRAUMA\"]\n",
    "hospital_zip = hospital_df[\"ZIP\"]\n",
    "\n",
    "updated_hospital_df = pd.DataFrame({\n",
    "    \n",
    "    \"State\": hospital_state,\n",
    "    \"Name\": hospital_name,\n",
    "    \"Latitude\": hospital_latitude,\n",
    "    \"Longitude\": hospital_longitude,\n",
    "    \"City\": hospital_city,\n",
    "    \"County\": hospital_county,\n",
    "    \"Type\": hospital_type,\n",
    "    \"Trauma\": hospital_trauma,\n",
    "    \"Zip\": hospital_zip\n",
    "    \n",
    "})\n",
    "\n",
    "\n",
    "hospital2_df = updated_hospital_df[[\"County\",\"State\",\"Name\", \"Latitude\", \"Longitude\", \"Type\", \"Trauma\", \"City\", \"Zip\"]]\n",
    "hospital2_df = hospital2_df.set_index(\"Zip\")\n",
    "hospital2_df.head()\n",
    "\n",
    "hospital2_df.to_csv(\"../csv_references/hospitaldf.csv\", header=True, index=True)"
   ]
  },
  {
   "cell_type": "code",
   "execution_count": null,
   "metadata": {},
   "outputs": [],
   "source": []
  },
  {
   "cell_type": "code",
   "execution_count": 14,
   "metadata": {},
   "outputs": [],
   "source": [
    "quality_imu = quality_df[\"IMU Score\"]\n",
    "quality_county = quality_df[\"COUNTY EQUIVALENT NAME\"]\n",
    "quality_state= quality_df[\"State Abbreviation\"]\n",
    "quality_zip = quality_df['Common State County FIPS Code']\n",
    "\n",
    "\n",
    "updated_quality_df = pd.DataFrame({\n",
    "    \n",
    "    \"County\": quality_county,\n",
    "    \"State\": quality_state,\n",
    "    \"IMU Score\": quality_imu,\n",
    "    \"Zip\": quality_zip\n",
    "\n",
    "})"
   ]
  },
  {
   "cell_type": "code",
   "execution_count": 15,
   "metadata": {},
   "outputs": [
    {
     "data": {
      "text/plain": [
       "13273"
      ]
     },
     "execution_count": 15,
     "metadata": {},
     "output_type": "execute_result"
    }
   ],
   "source": [
    "updated_quality_df.duplicated().sum()"
   ]
  },
  {
   "cell_type": "code",
   "execution_count": 22,
   "metadata": {},
   "outputs": [],
   "source": [
    "updated_quality_df.loc[updated_quality_df.duplicated(keep = False), :]\n",
    "new_quality_df = updated_quality_df.drop_duplicates(keep = False)\n",
    "\n",
    "quality1_df = new_quality_df[[\"County\",\"State\",\"IMU Score\", \"Zip\"]]\n",
    "quality1_df = quality1_df.set_index(\"State\")\n",
    "quality1_df.head()\n",
    "quality1_df.to_csv(\"../csv_references/quality1_df.csv\", header=True, index=True)"
   ]
  },
  {
   "cell_type": "code",
   "execution_count": null,
   "metadata": {},
   "outputs": [],
   "source": []
  },
  {
   "cell_type": "code",
   "execution_count": 23,
   "metadata": {},
   "outputs": [],
   "source": [
    "combined_data_df = pd.merge(hospital2_df, quality1_df, on=['State', 'County'], how='outer')\n"
   ]
  },
  {
   "cell_type": "code",
   "execution_count": 24,
   "metadata": {},
   "outputs": [],
   "source": [
    "new_df = combined_data_df[[\"Zip\", \"State\", \"Latitude\", \"Longitude\", \"IMU Score\"]]\n",
    "new_df = new_df.set_index(\"State\")\n",
    "new_df = new_df[new_df[\"IMU Score\"] < 60]\n",
    "new_df.dropna(inplace=True)\n",
    "new_df\n",
    "new_df.to_csv(\"../csv_references/new_df.csv\", header=True, index=True)"
   ]
  },
  {
   "cell_type": "code",
   "execution_count": null,
   "metadata": {},
   "outputs": [],
   "source": []
  },
  {
   "cell_type": "code",
   "execution_count": null,
   "metadata": {},
   "outputs": [],
   "source": []
  }
 ],
 "metadata": {
  "kernelspec": {
   "display_name": "Python 3",
   "language": "python",
   "name": "python3"
  },
  "language_info": {
   "codemirror_mode": {
    "name": "ipython",
    "version": 3
   },
   "file_extension": ".py",
   "mimetype": "text/x-python",
   "name": "python",
   "nbconvert_exporter": "python",
   "pygments_lexer": "ipython3",
   "version": "3.6.5"
  }
 },
 "nbformat": 4,
 "nbformat_minor": 2
}
